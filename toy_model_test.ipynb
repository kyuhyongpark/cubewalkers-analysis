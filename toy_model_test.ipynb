{
 "cells": [
  {
   "cell_type": "code",
   "execution_count": 2,
   "metadata": {},
   "outputs": [],
   "source": [
    "import cubewalkers as cw"
   ]
  },
  {
   "cell_type": "code",
   "execution_count": 2,
   "metadata": {},
   "outputs": [
    {
     "name": "stdout",
     "output_type": "stream",
     "text": [
      "dc = 1.1827999999999999\n",
      "f = 0.0\n"
     ]
    }
   ],
   "source": [
    "r1 = '''\n",
    "A*=B\n",
    "B*=!A\n",
    "C*=A&B | A&C | B&C\n",
    "'''\n",
    "# Sensitivities for A,B,C (in order) are 1,1,1.5, so DC=7/6\n",
    "m1 = cw.Model(r1,n_time_steps=1000,n_walkers=10000)\n",
    "print('dc =',m1.derrida_coefficient())\n",
    "print('f =',m1.n_variables*(1-m1.quasicoherence(fuzzy_coherence=True,T_sample=100)))"
   ]
  },
  {
   "cell_type": "code",
   "execution_count": 3,
   "metadata": {},
   "outputs": [
    {
     "name": "stdout",
     "output_type": "stream",
     "text": [
      "dc = 0.9109999999999999\n",
      "f = 0.0\n"
     ]
    }
   ],
   "source": [
    "r2 = '''\n",
    "A*=B\n",
    "B*=!A\n",
    "C*=A&B&C\n",
    "'''\n",
    "# Sensitivities for A,B,C (in order) are 1,1,0.75, so DC=11/12\n",
    "m2 = cw.Model(r2,n_time_steps=1000,n_walkers=10000)\n",
    "print('dc =',m2.derrida_coefficient())\n",
    "print('f =',m2.n_variables*(1-m2.quasicoherence(fuzzy_coherence=True,T_sample=100)))"
   ]
  },
  {
   "cell_type": "code",
   "execution_count": 4,
   "metadata": {},
   "outputs": [
    {
     "name": "stdout",
     "output_type": "stream",
     "text": [
      "dc = 0.93647\n",
      "f = 1.1246549999999997\n"
     ]
    }
   ],
   "source": [
    "r3 = '''\n",
    "A*=A|C\n",
    "B*=B|C\n",
    "C*=A&B\n",
    "D*=A&B&C\n",
    "'''\n",
    "# Sensitivities for A,B,C,D (in order) are 1,1,1,0.75, so DC=15/16\n",
    "m3 = cw.Model(r3,n_time_steps=1000,n_walkers=100000)\n",
    "print('dc =',m3.derrida_coefficient())\n",
    "print('f =',m3.n_variables*(1-m3.quasicoherence(fuzzy_coherence=True,T_sample=100)))"
   ]
  },
  {
   "cell_type": "code",
   "execution_count": 5,
   "metadata": {},
   "outputs": [
    {
     "name": "stdout",
     "output_type": "stream",
     "text": [
      "dc = 1.1313\n",
      "f = 1.12805\n"
     ]
    }
   ],
   "source": [
    "r4 = '''\n",
    "A*=A|C\n",
    "B*=B|C\n",
    "C*=A&B\n",
    "D*=A&B | A&C | B&C\n",
    "'''\n",
    "# Sensitivities for A,B,C,D (in order) are 1,1,1,1.5, so DC=9/8\n",
    "m4 = cw.Model(r4,n_time_steps=1000,n_walkers=100000)\n",
    "print('dc =',m4.derrida_coefficient())\n",
    "print('f =',m4.n_variables*(1-m4.quasicoherence(fuzzy_coherence=True,T_sample=100)))"
   ]
  },
  {
   "cell_type": "code",
   "execution_count": 3,
   "metadata": {},
   "outputs": [
    {
     "name": "stdout",
     "output_type": "stream",
     "text": [
      "dc = 0.99736\n",
      "f = 1.1239625000000002\n"
     ]
    }
   ],
   "source": [
    "r5 = '''\n",
    "WNT4,\t!SOX9 && !SRY\n",
    "CTNNB1,\tWNT4 && !SRY\n",
    "SOX9,\t!WNT4 && SOX9 && !CTNNB1\n",
    "SRY,\t!CTNNB1 && SOX9 || !CTNNB1 && SRY\n",
    "'''\n",
    "m5 = cw.Model(r5,n_time_steps=1000,n_walkers=100000)\n",
    "print('dc =',m5.derrida_coefficient())\n",
    "print('f =',m5.n_variables*(1-m5.quasicoherence(fuzzy_coherence=True,T_sample=100,maskfunction=cw.update_schemes.synchronous)))"
   ]
  },
  {
   "cell_type": "code",
   "execution_count": null,
   "metadata": {},
   "outputs": [],
   "source": []
  }
 ],
 "metadata": {
  "kernelspec": {
   "display_name": "Python 3",
   "language": "python",
   "name": "python3"
  },
  "language_info": {
   "codemirror_mode": {
    "name": "ipython",
    "version": 3
   },
   "file_extension": ".py",
   "mimetype": "text/x-python",
   "name": "python",
   "nbconvert_exporter": "python",
   "pygments_lexer": "ipython3",
   "version": "3.10.6"
  },
  "orig_nbformat": 4,
  "vscode": {
   "interpreter": {
    "hash": "916dbcbb3f70747c44a77c7bcd40155683ae19c65e1c03b4aa3499c5328201f1"
   }
  }
 },
 "nbformat": 4,
 "nbformat_minor": 2
}
