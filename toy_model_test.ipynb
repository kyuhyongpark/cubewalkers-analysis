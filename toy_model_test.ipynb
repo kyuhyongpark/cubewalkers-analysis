{
 "cells": [
  {
   "cell_type": "code",
   "execution_count": 1,
   "metadata": {},
   "outputs": [],
   "source": [
    "import cubewalkers as cw"
   ]
  },
  {
   "cell_type": "code",
   "execution_count": 41,
   "metadata": {},
   "outputs": [
    {
     "name": "stdout",
     "output_type": "stream",
     "text": [
      "dc = 1.1607\n",
      "f = 0.0\n"
     ]
    }
   ],
   "source": [
    "r1 = '''\n",
    "A*=B\n",
    "B*=!A\n",
    "C*=A&B | A&C | B&C\n",
    "'''\n",
    "m1 = cw.Model(r1,n_time_steps=1000,n_walkers=10000)\n",
    "print('dc =',m1.derrida_coefficient())\n",
    "print('f =',m1.n_variables*(1-m1.quasicoherence(fuzzy_coherence=True,T_sample=100)))"
   ]
  },
  {
   "cell_type": "code",
   "execution_count": 42,
   "metadata": {},
   "outputs": [
    {
     "name": "stdout",
     "output_type": "stream",
     "text": [
      "dc = 0.9192\n",
      "f = 0.0\n"
     ]
    }
   ],
   "source": [
    "r1 = '''\n",
    "A*=B\n",
    "B*=!A\n",
    "C*=A&B&C\n",
    "\n",
    "'''\n",
    "m1 = cw.Model(r1,n_time_steps=1000,n_walkers=10000)\n",
    "print('dc =',m1.derrida_coefficient())\n",
    "print('f =',m1.n_variables*(1-m1.quasicoherence(fuzzy_coherence=True,T_sample=100)))"
   ]
  },
  {
   "cell_type": "code",
   "execution_count": null,
   "metadata": {},
   "outputs": [],
   "source": []
  }
 ],
 "metadata": {
  "kernelspec": {
   "display_name": "Python 3",
   "language": "python",
   "name": "python3"
  },
  "language_info": {
   "codemirror_mode": {
    "name": "ipython",
    "version": 3
   },
   "file_extension": ".py",
   "mimetype": "text/x-python",
   "name": "python",
   "nbconvert_exporter": "python",
   "pygments_lexer": "ipython3",
   "version": "3.10.6"
  },
  "orig_nbformat": 4,
  "vscode": {
   "interpreter": {
    "hash": "916dbcbb3f70747c44a77c7bcd40155683ae19c65e1c03b4aa3499c5328201f1"
   }
  }
 },
 "nbformat": 4,
 "nbformat_minor": 2
}
