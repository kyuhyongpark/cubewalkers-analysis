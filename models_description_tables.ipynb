{
 "cells": [
  {
   "cell_type": "markdown",
   "metadata": {},
   "source": [
    "# Models Description Tables\n",
    "Here we generate a table that summarizes the model properties."
   ]
  },
  {
   "cell_type": "code",
   "execution_count": 1,
   "metadata": {},
   "outputs": [],
   "source": [
    "from cana.boolean_network import BooleanNetwork\n",
    "import cubewalkers as cw\n",
    "\n",
    "import warnings\n",
    "warnings.simplefilter(action=\"ignore\", category=FutureWarning)\n",
    "\n",
    "import pandas as pd\n",
    "import matplotlib.pyplot as plt\n",
    "%matplotlib inline\n",
    "\n",
    "pd.options.display.max_rows = 999\n",
    "pd.options.display.max_columns = 999\n",
    "plt.rcParams.update({\"font.size\":20})"
   ]
  },
  {
   "cell_type": "code",
   "execution_count": 2,
   "metadata": {},
   "outputs": [],
   "source": [
    "models_dir = \"corrected_models\" # only for corrected_models\n",
    "\n",
    "QCFNS = pd.read_csv(f\"data/{models_dir}/quasicoherence_fuzzy_sourceless.csv\")\n",
    "DC = pd.read_csv(f\"data/{models_dir}/derrida_coefficients.csv\")\n",
    "QC = pd.read_csv(\"data/model_categories.csv\")"
   ]
  },
  {
   "cell_type": "code",
   "execution_count": 3,
   "metadata": {},
   "outputs": [],
   "source": [
    "QC = QC.merge(QCFNS)\n",
    "QC = QC.merge(DC)\n",
    "\n",
    "QC.columns = [\"name\", \"category\", \"PMID\",\n",
    "              \"SFQCNS\", \"AFQCNS\",\n",
    "              \"SDC\", \"ADC\", \n",
    "              \"SDCNS\", \"ADCNS\"]\n",
    "\n",
    "\n",
    "N = []\n",
    "NS = []\n",
    "K = []\n",
    "for name in sorted(QC[\"name\"]):\n",
    "    #print(name)\n",
    "    with open(f\"models/{models_dir}/{name}.txt\") as f:\n",
    "        model = cw.Model(f.read())\n",
    "    # Translate to CANA readable\n",
    "    string_rules = cw.conversions.cpp2bnet(model.rules)\n",
    "    string_rules = string_rules.replace(\",\\t\", \"*= \")\n",
    "    string_rules = string_rules.replace(\"!\", \"not \")\n",
    "    string_rules = string_rules.replace(\"&\", \"and\")\n",
    "    string_rules = string_rules.replace(\"|\", \"or\")\n",
    "    \n",
    "    # Load to CANA\n",
    "    BN = BooleanNetwork.from_string_boolean(string_rules)\n",
    "    \n",
    "    constants = []\n",
    "    k = 0\n",
    "    for n in BN.nodes:\n",
    "        k += n.k\n",
    "        if n.k == 1 and n.inputs[0] == n.id:\n",
    "            constants.append(n.id)\n",
    "    k /= BN.Nnodes\n",
    "    \n",
    "    N.append(BN.Nnodes)\n",
    "    NS.append(len(constants))\n",
    "    K.append(k)\n",
    "    \n",
    "\n",
    "NDF = pd.DataFrame({\n",
    "    \"name\": sorted(QC[\"name\"]),\n",
    "    \"N\": N,\n",
    "    \"NS\": NS,\n",
    "    \"avgK\": K,\n",
    "})\n",
    "\n",
    "QC=QC.merge(NDF)\n",
    "\n",
    "# Fragility = \n",
    "# long-term difference in node avg. values after initial 1-node perturbation\n",
    "QC[\"AFNS\"] = (1-QC[\"AFQCNS\"])*(QC[\"N\"]-QC[\"NS\"])\n",
    "QC[\"SFNS\"] = (1-QC[\"SFQCNS\"])*(QC[\"N\"]-QC[\"NS\"])\n",
    "\n",
    "QC = QC[[\"name\", \"category\", \"PMID\",\n",
    "         \"N\", \"NS\", \"avgK\",\n",
    "         \"SDC\", \"ADC\", \"SDCNS\", \"ADCNS\",\n",
    "         \"SFQCNS\", \"AFQCNS\", \"SFNS\", \"AFNS\"]]\n",
    "\n",
    "#QC.sort_values(by=[\"name\"])\n",
    "QC.to_csv(\"data/tables/LatexTableSource.csv\")"
   ]
  },
  {
   "cell_type": "code",
   "execution_count": 4,
   "metadata": {},
   "outputs": [],
   "source": [
    "QC = pd.read_csv(\"data/tables/LatexTableSource.csv\")\n",
    "\n",
    "# Stress/Damage and Homeostasis = SDH\n",
    "\n",
    "for category in QC[\"category\"].unique():\n",
    "    df = QC[QC.category == category]\n",
    "    df.loc[:,\"name\"] = df[\"name\"].str.replace(\"&\", \"\\&\")\n",
    "    if category == \"Signal Transduction (Stress/Damage and Homeostasis)\":\n",
    "        category = \"Signal Transduction (SDH)\"\n",
    "    df.to_latex(buf=f\"data/tables/{category}.tex\", columns=[\"name\", \"PMID\", \"N\", \"NS\", \"avgK\", \"SDC\", \"AFNS\"], index=False, \n",
    "                column_format=\"|p{180pt}||p{40pt}|p{25pt}|p{25pt}|p{40pt}|p{25pt}|p{25pt}|\", float_format=\"%.4f\",\n",
    "                caption=category + \" models\", label=\"tab:\"+category.replace(\" \", \"_\"))"
   ]
  }
 ],
 "metadata": {
  "kernelspec": {
   "display_name": "Python 3 (ipykernel)",
   "language": "python",
   "name": "python3"
  },
  "language_info": {
   "codemirror_mode": {
    "name": "ipython",
    "version": 3
   },
   "file_extension": ".py",
   "mimetype": "text/x-python",
   "name": "python",
   "nbconvert_exporter": "python",
   "pygments_lexer": "ipython3",
   "version": "3.11.4"
  },
  "orig_nbformat": 4,
  "vscode": {
   "interpreter": {
    "hash": "a9960baf88259386db57c734c8604c8e4ab789688672644b3cf73fda24b112c6"
   }
  }
 },
 "nbformat": 4,
 "nbformat_minor": 2
}
