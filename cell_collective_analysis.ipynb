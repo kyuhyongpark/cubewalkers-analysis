{
 "cells": [
  {
   "cell_type": "code",
   "execution_count": 1,
   "metadata": {},
   "outputs": [],
   "source": [
    "import cubewalkers as cw\n"
   ]
  },
  {
   "cell_type": "code",
   "execution_count": 23,
   "metadata": {},
   "outputs": [],
   "source": [
    "IMPORT_RULES_FROM_FILES = True\n",
    "cc_models_dir = './models/cell_collective/'\n",
    "if IMPORT_RULES_FROM_FILES:\n",
    "    from os import listdir\n",
    "    \n",
    "    models = {}\n",
    "    for fname in listdir(cc_models_dir):\n",
    "        with open(cc_models_dir+fname) as rulefile:\n",
    "            name = fname.strip('.txt')\n",
    "            rules = rulefile.read()\n",
    "            models[name]=cw.Model(rules)\n",
    "else:\n",
    "    from cana.datasets.bio import load_all_cell_collective_models\n",
    "    def cell_collective_models():\n",
    "        return {BN.name:cw.Model(cw.conversions.network_rules_from_cana(BN)) \n",
    "                for BN in load_all_cell_collective_models()}\n",
    "    models = cell_collective_models()\n",
    "    for name,model in models.items():\n",
    "        with open(cc_models_dir+name+'.txt','w') as rulefile:\n",
    "            rulefile.write(model.rules)"
   ]
  },
  {
   "cell_type": "code",
   "execution_count": 27,
   "metadata": {},
   "outputs": [
    {
     "name": "stdout",
     "output_type": "stream",
     "text": [
      "Ceramide,\t!S1P &&  && Fas &&  && !Apoptosis\n",
      "GPCR,\tS1P &&  && !Apoptosis\n",
      "sFas,\tS1P &&  && !Apoptosis\n",
      "P2,\tIFNG &&  && !Apoptosis ||  || P2 &&  && !Apoptosis\n",
      "SMAD,\tGPCR &&  && !Apoptosis\n",
      "BID,\t!MCL1 &&  && !Apoptosis\n",
      "CTLA4,\tTCR &&  && !Apoptosis\n",
      "IFNG,\t!P2 &&  && !SMAD &&  && !Apoptosis\n",
      "S1P,\t!Ceramide &&  && !Apoptosis\n",
      "MCL1,\t!DISC &&  && !Apoptosis\n",
      "Fas,\t!sFas &&  && !Apoptosis\n",
      "TCR,\t!CTLA4 &&  && !Apoptosis\n",
      "Caspase,\tDISC &&  && !Apoptosis ||  || BID &&  && !IAP &&  && !Apoptosis\n",
      "IAP,\t!BID &&  && !Apoptosis\n",
      "FLIP,\t!DISC &&  && !Apoptosis\n",
      "DISC,\tCeramide &&  && !Apoptosis ||  || Fas &&  && !FLIP &&  && !Apoptosis\n",
      "CREB,\tIFNG &&  && !Apoptosis\n",
      "Apoptosis,\t!(!Caspase &&  && !Apoptosis)\n"
     ]
    }
   ],
   "source": [
    "print(models['T-LGL Survival Network 2011 Reduced Network'].rules)"
   ]
  },
  {
   "cell_type": "code",
   "execution_count": 21,
   "metadata": {},
   "outputs": [],
   "source": []
  },
  {
   "cell_type": "code",
   "execution_count": null,
   "metadata": {},
   "outputs": [],
   "source": []
  }
 ],
 "metadata": {
  "kernelspec": {
   "display_name": "Python 3.10.6 64-bit",
   "language": "python",
   "name": "python3"
  },
  "language_info": {
   "codemirror_mode": {
    "name": "ipython",
    "version": 3
   },
   "file_extension": ".py",
   "mimetype": "text/x-python",
   "name": "python",
   "nbconvert_exporter": "python",
   "pygments_lexer": "ipython3",
   "version": "3.10.6"
  },
  "orig_nbformat": 4,
  "vscode": {
   "interpreter": {
    "hash": "916dbcbb3f70747c44a77c7bcd40155683ae19c65e1c03b4aa3499c5328201f1"
   }
  }
 },
 "nbformat": 4,
 "nbformat_minor": 2
}
