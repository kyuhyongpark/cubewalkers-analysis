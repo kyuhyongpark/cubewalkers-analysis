{
 "cells": [
  {
   "cell_type": "code",
   "execution_count": 5,
   "metadata": {},
   "outputs": [],
   "source": [
    "import cubewalkers as cw\n",
    "import pystablemotifs as psm\n",
    "import pyboolnet as pbn"
   ]
  },
  {
   "cell_type": "code",
   "execution_count": 8,
   "metadata": {},
   "outputs": [],
   "source": [
    "cacc_rules = '''\n",
    "SMAD,\t!JUN & TGFR\n",
    "CYTC,\tMOMP\n",
    "TNFA,\tMAC\n",
    "FAS,\tCTL\n",
    "GP130,\tIL6\n",
    "CASP8,\t!P21 & !CFLIP & FADD\n",
    "SPHK1,\t!(!TNFR & !ERK)\n",
    "JAK,\tGP130 & !SOCS\n",
    "SOCS,\tSTAT3\n",
    "SMASE,\t!(!P53 & !FADD)\n",
    "TH1,\t!IL10 & IL12 & !IL4 & !TGFB | IFNG & !IL10 & !IL4 & !TGFB\n",
    "IFNG,\t!(!TH1 & !CTL)\n",
    "SOD,\t!(!STAT3 & !NFKB)\n",
    "PTEN,\t!JUN & P53 & !NFKB\n",
    "IL10,\t!(!TREG & !TH2)\n",
    "JUN,\tBCATENIN & JNK & !GSK3B | JNK & !GSK3B & ERK\n",
    "PP2A,\tCERAMIDE & !AKT\n",
    "P53,\tPTEN & !MDM2 | JNK & !MDM2 | ATM & !MDM2\n",
    "RAS,\t!(!GP130 & !EP2)\n",
    "CASP3,\tCASP8 & !IAP | !IAP & CASP9\n",
    "MEK,\t!(!RAF & !ROS)\n",
    "MAC,\tIFNG & !IL10 | !IL10 & CCL2\n",
    "P21,\tSMAD & !CASP3 & !GSK3B | P53 & !CASP3 & !GSK3B\n",
    "CERAMIDE,\t!SPHK1 & SMASE\n",
    "TREG,\tDC & !IL6 | IL10 & !IL6\n",
    "TBID,\tCASP8 & !BCL2\n",
    "IL12,\t!(!MAC & !DC)\n",
    "BCATENIN,\t!(GSK3B & APC)\n",
    "RAF,\t!(!RAS & !CERAMIDE)\n",
    "ASK1,\t!P21 & ROS\n",
    "TNFR,\tTNFA\n",
    "TH2,\t!IFNG & IL4 & !TGFB\n",
    "IL4,\t!(!TH2 & !DC)\n",
    "STAT3,\tJAK\n",
    "JNK,\t!(!ASK1 & !MEKK1)\n",
    "CFLIP,\tNFKB\n",
    "IKK,\t!(!TNFR & !AKT | !S1P & !AKT)\n",
    "EP2,\tPGE2\n",
    "SMAD7,\t!(!SMAD & !NFKB)\n",
    "PI3K,\t!PTEN & RAS | !PTEN & EP2\n",
    "CTL,\tIFNG & !TGFB\n",
    "FOS,\tERK\n",
    "BCL2,\t!PP2A & !P53 & NFKB | !PP2A & !P53 & STAT3\n",
    "TGFR,\t!SMAD7 & TGFB\n",
    "GSK3B,\t!EP2 & !AKT\n",
    "CCL2,\tNFKB\n",
    "MOMP,\tTBID & !BCL2 | CERAMIDE & !BCL2 | !BCL2 & BAX\n",
    "ATM,\tROS\n",
    "IAP,\tSTAT3 & !SMAC | !SMAC & NFKB\n",
    "Apoptosis,\tCASP3\n",
    "Proliferation,\t!CASP3 & !P21 & FOS & CYCLIND1\n",
    "PGE2,\tCOX2\n",
    "COX2,\tTNFR & S1P\n",
    "SMAC,\tMOMP\n",
    "ERK,\tMEK\n",
    "S1P,\tSPHK1\n",
    "ROS,\t!SOD & TNFR\n",
    "NFKB,\t!IKB\n",
    "DC,\tTNFA & !IL10 | !IL10 & CCL2\n",
    "MDM2,\tP53 & !GSK3B & !ATM & AKT\n",
    "FADD,\t!(!FAS & !TNFR)\n",
    "TGFB,\tTREG\n",
    "CYCLIND1,\tJUN & !GSK3B | BCATENIN & !GSK3B | STAT3 & !GSK3B\n",
    "IKB,\t!IKK\n",
    "IL6,\t!(!MAC & !NFKB & !DC)\n",
    "CASP9,\tCYTC & !P21 & !IAP\n",
    "MEKK1,\t!(!CERAMIDE & !TNFR & !TGFR)\n",
    "BAX,\tPP2A & P53 & !AKT | PP2A & TBID & !AKT\n",
    "AKT,\t!PP2A & !CASP3 & PI3K\n",
    "APC,\tAPC\n",
    "'''"
   ]
  },
  {
   "cell_type": "code",
   "execution_count": 9,
   "metadata": {},
   "outputs": [
    {
     "name": "stdout",
     "output_type": "stream",
     "text": [
      "Apoptosis* = CASP3\n",
      "BAX* = P53 & PP2A\n",
      "CASP3* = CASP9\n",
      "CASP9* = CYTC\n",
      "CERAMIDE* = SMASE & !SPHK1\n",
      "CYTC* = MOMP\n",
      "ERK* = MEK\n",
      "FOS* = ERK\n",
      "JNK* = MEKK1\n",
      "MEK* = RAF\n",
      "MEKK1* = CERAMIDE\n",
      "MOMP* = CERAMIDE | BAX\n",
      "P53* = PTEN | JNK\n",
      "PP2A* = CERAMIDE\n",
      "PTEN* = P53\n",
      "RAF* = CERAMIDE\n",
      "S1P* = SPHK1\n",
      "SMAC* = MOMP\n",
      "SMASE* = P53\n",
      "SPHK1* = ERK\n"
     ]
    }
   ],
   "source": [
    "cacc_primes = psm.format.create_primes(cacc_rules)\n",
    "\n",
    "fixed_off_names = {'DC', 'IL12', 'IL4', 'TH1', 'TH2', 'TREG', 'IFNG', 'MAC', 'IL10', 'CCL2', 'IL6', 'TFGB', 'CTL', 'TNFA', 'PGE2'}\n",
    "fixed = {n:0 for n in fixed_off_names}\n",
    "fixed['APC']=1\n",
    "perc,_=psm.drivers.logical_domain_of_influence(fixed,cacc_primes)\n",
    "pbn.prime_implicants.percolate(cacc_primes,perc,remove_constants=True,copy=False)\n",
    "psm.format.pretty_print_prime_rules(cacc_primes)"
   ]
  },
  {
   "cell_type": "code",
   "execution_count": 16,
   "metadata": {},
   "outputs": [],
   "source": [
    "cacc_model=cw.Model(psm.format.primes2bnet(cacc_primes))\n",
    "cacc_model_original=cw.Model(cacc_rules)"
   ]
  },
  {
   "cell_type": "code",
   "execution_count": 18,
   "metadata": {},
   "outputs": [
    {
     "name": "stdout",
     "output_type": "stream",
     "text": [
      "N*(1-SFQC)=array(0.348139)\n"
     ]
    }
   ],
   "source": [
    "SFQC = cacc_model.quasicoherence(n_time_steps=10000, n_walkers=5000, T_sample=1000,\n",
    "                          fuzzy_coherence=True, maskfunction=cw.update_schemes.synchronous)\n",
    "N = cacc_model.n_variables\n",
    "print(f'{N*(1-SFQC)=}')"
   ]
  },
  {
   "cell_type": "code",
   "execution_count": 20,
   "metadata": {},
   "outputs": [
    {
     "name": "stdout",
     "output_type": "stream",
     "text": [
      "N_O*(1-SFQC_O)=array(1.12033524)\n"
     ]
    }
   ],
   "source": [
    "SFQC_O = cacc_model_original.quasicoherence(n_time_steps=10000, n_walkers=5000, T_sample=1000,\n",
    "                          fuzzy_coherence=True, maskfunction=cw.update_schemes.synchronous,threads_per_block=(16,16))\n",
    "N_O = cacc_model_original.n_variables\n",
    "print(f'{N_O*(1-SFQC_O)=}')"
   ]
  },
  {
   "cell_type": "code",
   "execution_count": 22,
   "metadata": {},
   "outputs": [],
   "source": [
    "hgsd_rules = '''\n",
    "WNT4,\t!DKK1 & RSPO1 & !FGF9 | !DKK1 & CTNNB1 & !FGF9 | !DKK1 & GATA4 & !FGF9 | !DKK1 & NR0B1 & !FGF9\n",
    "PGD2,\tSOX9\n",
    "DHH,\tSOX9\n",
    "DMRT1,\t!FOXL2 & SRY | !FOXL2 & SOX9\n",
    "WT1pKTS,\t!(!UGR & !GATA4 | WNT4 & CTNNB1)\n",
    "DKK1,\t!(!SRY & !SOX9)\n",
    "NR0B1,\tWNT4 & CTNNB1 & !NR5A1 | WNT4 & CTNNB1 & !SOX9 | WT1mKTS & !SOX9 | WT1mKTS & !NR5A1\n",
    "UGR,\t!WNT4 & UGR & !NR5A1\n",
    "GATA4,\t!(!WNT4 & !UGR & !SRY & !NR5A1)\n",
    "CBX2,\t!WNT4 & UGR | !NR0B1 & UGR | UGR & !CTNNB1\n",
    "RSPO1,\tWNT4 & !DKK1 | !DKK1 & CTNNB1\n",
    "FOXL2,\tWNT4 & !DMRT1 & CTNNB1 & !SOX9\n",
    "AMH,\t!NR0B1 & GATA4 & NR5A1 & SOX9 | GATA4 & !CTNNB1 & NR5A1 & SOX9\n",
    "CTNNB1,\tWNT4 & !AMH & !SRY | WNT4 & !SRY & !SOX9 | RSPO1 & !AMH & !SRY | RSPO1 & !SRY & !SOX9\n",
    "SRY,\t!CTNNB1 & SOX9 | !CTNNB1 & SRY | WT1pKTS & GATA4 & CBX2 & !CTNNB1 & NR5A1 | CBX2 & !CTNNB1 & WT1mKTS & NR5A1\n",
    "WT1mKTS,\t!(!UGR & !GATA4)\n",
    "NR5A1,\t!(!UGR & !GATA4 & !CBX2 & !WT1mKTS | WNT4 & NR0B1)\n",
    "SOX9,\t!WNT4 & !FOXL2 & !CTNNB1 & SOX9 & FGF9 | !WNT4 & !FOXL2 & !CTNNB1 & SRY | !WNT4 & PGD2 & !FOXL2 & !CTNNB1\n",
    "FGF9,\t!WNT4 & SOX9\n",
    "'''"
   ]
  },
  {
   "cell_type": "code",
   "execution_count": 31,
   "metadata": {},
   "outputs": [
    {
     "name": "stdout",
     "output_type": "stream",
     "text": [
      "AMH* = GATA4 & !NR0B1 & NR5A1 & SOX9 | !CTNNB1 & GATA4 & NR5A1 & SOX9\n",
      "CTNNB1* = !SOX9 & !SRY & WNT4 | RSPO1 & !SOX9 & !SRY | !AMH & !SRY & WNT4 | !AMH & RSPO1 & !SRY\n",
      "DHH* = SOX9\n",
      "DKK1* = SRY | SOX9\n",
      "DMRT1* = !FOXL2 & SRY | !FOXL2 & SOX9\n",
      "FGF9* = SOX9 & !WNT4\n",
      "FOXL2* = CTNNB1 & !DMRT1 & !SOX9 & WNT4\n",
      "GATA4* = WNT4 | SRY | NR5A1\n",
      "NR0B1* = CTNNB1 & !SOX9 & WNT4 | CTNNB1 & !NR5A1 & WNT4 | !SOX9 & WT1mKTS | !NR5A1 & WT1mKTS\n",
      "NR5A1* = !WNT4 & WT1mKTS | !NR0B1 & WT1mKTS | GATA4 & !WNT4 | GATA4 & !NR0B1\n",
      "PGD2* = SOX9\n",
      "RSPO1* = !DKK1 & WNT4 | CTNNB1 & !DKK1\n",
      "SOX9* = !CTNNB1 & FGF9 & !FOXL2 & SOX9 & !WNT4 | !CTNNB1 & !FOXL2 & SRY & !WNT4 | !CTNNB1 & !FOXL2 & PGD2 & !WNT4\n",
      "SRY* = !CTNNB1 & SRY | !CTNNB1 & SOX9\n",
      "WNT4* = !DKK1 & !FGF9 & RSPO1 | !DKK1 & !FGF9 & NR0B1 | !DKK1 & !FGF9 & GATA4 | CTNNB1 & !DKK1 & !FGF9\n",
      "WT1mKTS* = GATA4\n",
      "WT1pKTS* = GATA4 & !WNT4 | !CTNNB1 & GATA4\n"
     ]
    }
   ],
   "source": [
    "hgsd_primes = psm.format.create_primes(hgsd_rules)\n",
    "\n",
    "fixed_off_names = {'UGR'}\n",
    "fixed = {n:0 for n in fixed_off_names} # change the `n:0` to `n:1` to see effect of UGR=1\n",
    "perc,_=psm.drivers.logical_domain_of_influence(fixed,hgsd_primes)\n",
    "pbn.prime_implicants.percolate(hgsd_primes,perc,remove_constants=True,copy=False)\n",
    "psm.format.pretty_print_prime_rules(hgsd_primes)"
   ]
  },
  {
   "cell_type": "code",
   "execution_count": 32,
   "metadata": {},
   "outputs": [],
   "source": [
    "hgsd_model=cw.Model(psm.format.primes2bnet(hgsd_primes))\n",
    "hgsd_model_original=cw.Model(hgsd_rules)"
   ]
  },
  {
   "cell_type": "code",
   "execution_count": 33,
   "metadata": {},
   "outputs": [
    {
     "name": "stdout",
     "output_type": "stream",
     "text": [
      "N*(1-SFQC)=array(1.50432941)\n"
     ]
    }
   ],
   "source": [
    "SFQC = hgsd_model.quasicoherence(n_time_steps=10000, n_walkers=5000, T_sample=1000,\n",
    "                          fuzzy_coherence=True, maskfunction=cw.update_schemes.synchronous)\n",
    "N = hgsd_model.n_variables\n",
    "print(f'{N*(1-SFQC)=}')"
   ]
  },
  {
   "cell_type": "code",
   "execution_count": 27,
   "metadata": {},
   "outputs": [
    {
     "name": "stdout",
     "output_type": "stream",
     "text": [
      "N_O*(1-SFQC_O)=array(1.4672)\n"
     ]
    }
   ],
   "source": [
    "SFQC_O = hgsd_model_original.quasicoherence(n_time_steps=10000, n_walkers=5000, T_sample=1000,\n",
    "                          fuzzy_coherence=True, maskfunction=cw.update_schemes.synchronous,threads_per_block=(32,32))\n",
    "N_O = hgsd_model_original.n_variables\n",
    "print(f'{N_O*(1-SFQC_O)=}')"
   ]
  },
  {
   "cell_type": "code",
   "execution_count": null,
   "metadata": {},
   "outputs": [],
   "source": []
  }
 ],
 "metadata": {
  "kernelspec": {
   "display_name": "Python 3",
   "language": "python",
   "name": "python3"
  },
  "language_info": {
   "codemirror_mode": {
    "name": "ipython",
    "version": 3
   },
   "file_extension": ".py",
   "mimetype": "text/x-python",
   "name": "python",
   "nbconvert_exporter": "python",
   "pygments_lexer": "ipython3",
   "version": "3.10.5"
  },
  "orig_nbformat": 4,
  "vscode": {
   "interpreter": {
    "hash": "92699ddff08e083f993a6ba0abfd713346288791271ce85be2f52442db7e1ae9"
   }
  }
 },
 "nbformat": 4,
 "nbformat_minor": 2
}
